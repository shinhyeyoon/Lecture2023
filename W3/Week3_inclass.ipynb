{
  "nbformat": 4,
  "nbformat_minor": 0,
  "metadata": {
    "colab": {
      "provenance": [],
      "authorship_tag": "ABX9TyPTNoSFspLYG01JmLzMaRk0",
      "include_colab_link": true
    },
    "kernelspec": {
      "name": "python3",
      "display_name": "Python 3"
    },
    "language_info": {
      "name": "python"
    }
  },
  "cells": [
    {
      "cell_type": "markdown",
      "metadata": {
        "id": "view-in-github",
        "colab_type": "text"
      },
      "source": [
        "<a href=\"https://colab.research.google.com/github/shinhyeyoon/Lecture2023/blob/main/W3/Week3_inclass.ipynb\" target=\"_parent\"><img src=\"https://colab.research.google.com/assets/colab-badge.svg\" alt=\"Open In Colab\"/></a>"
      ]
    },
    {
      "cell_type": "markdown",
      "source": [
        "# Example: 폐암 수술 환자의 생존율 예측 코드"
      ],
      "metadata": {
        "id": "ggXsHPpyvPsZ"
      }
    },
    {
      "cell_type": "markdown",
      "source": [
        "1. 환경준비"
      ],
      "metadata": {
        "id": "PORAKMgmvUQO"
      }
    },
    {
      "cell_type": "code",
      "source": [
        "from tensorflow.keras.models import Sequential\n",
        "from tensorflow.keras.layers import Dense\n",
        "import numpy as np\n",
        "import pandas as pd"
      ],
      "metadata": {
        "id": "w7TXUo19vVSd"
      },
      "execution_count": 1,
      "outputs": []
    },
    {
      "cell_type": "markdown",
      "source": [
        "2. 데이터 준비"
      ],
      "metadata": {
        "id": "2ogcTG8mvXuz"
      }
    },
    {
      "cell_type": "code",
      "source": [
        "Data_set = np.loadtxt('https://raw.githubusercontent.com/dhshinEddie/DeepKMOU/main/W3/ThoraricSurgery3.csv', delimiter=\",\")\n",
        "\n",
        "X = Data_set[:,0:16]                                                                          # 환자의 진찰 기록을 X로 지정합니다.\n",
        "y = Data_set[:,16]                                                                            # 수술 후 사망/생존 여부를 y로 지정합니다."
      ],
      "metadata": {
        "id": "S9XRl_4hvYkF"
      },
      "execution_count": 2,
      "outputs": []
    },
    {
      "cell_type": "markdown",
      "source": [
        "3. 구조결정"
      ],
      "metadata": {
        "id": "bPTqI_pzvaxl"
      }
    },
    {
      "cell_type": "code",
      "source": [
        "model = Sequential()                                                                          # 딥러닝 모델의 구조를 결정합니다.\n",
        "model.add(Dense(30, input_dim = 16, activation='relu'))\n",
        "model.add(Dense(1, activation='sigmoid'))"
      ],
      "metadata": {
        "id": "oHMbSWyHvcCw"
      },
      "execution_count": 3,
      "outputs": []
    },
    {
      "cell_type": "markdown",
      "source": [
        "4. 모델실행"
      ],
      "metadata": {
        "id": "8asvfjMyvfHt"
      }
    },
    {
      "cell_type": "code",
      "source": [
        "model.compile(loss='binary_crossentropy', optimizer='adam', metrics=['accuracy'])             # 딥러닝 모델을 실행합니다.\n",
        "history = model.fit(X, y, epochs=5, batch_size=16)"
      ],
      "metadata": {
        "colab": {
          "base_uri": "https://localhost:8080/"
        },
        "id": "oT1yNIa-viSx",
        "outputId": "a2cb105b-0ee7-42ac-e781-9900b12c73d0"
      },
      "execution_count": 4,
      "outputs": [
        {
          "output_type": "stream",
          "name": "stdout",
          "text": [
            "Epoch 1/5\n",
            "30/30 [==============================] - 3s 15ms/step - loss: 1.4779 - accuracy: 0.8255\n",
            "Epoch 2/5\n",
            "30/30 [==============================] - 0s 8ms/step - loss: 0.6876 - accuracy: 0.8234\n",
            "Epoch 3/5\n",
            "30/30 [==============================] - 0s 4ms/step - loss: 0.5072 - accuracy: 0.8340\n",
            "Epoch 4/5\n",
            "30/30 [==============================] - 0s 5ms/step - loss: 0.4421 - accuracy: 0.8511\n",
            "Epoch 5/5\n",
            "30/30 [==============================] - 0s 8ms/step - loss: 0.4341 - accuracy: 0.8511\n"
          ]
        }
      ]
    },
    {
      "cell_type": "code",
      "source": [],
      "metadata": {
        "id": "dQpMaJ5cvl6T"
      },
      "execution_count": null,
      "outputs": []
    }
  ]
}