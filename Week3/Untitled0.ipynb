{
  "nbformat": 4,
  "nbformat_minor": 0,
  "metadata": {
    "colab": {
      "provenance": [],
      "authorship_tag": "ABX9TyNxZQa0Nj5JUZux7tISLqGt",
      "include_colab_link": true
    },
    "kernelspec": {
      "name": "python3",
      "display_name": "Python 3"
    },
    "language_info": {
      "name": "python"
    }
  },
  "cells": [
    {
      "cell_type": "markdown",
      "metadata": {
        "id": "view-in-github",
        "colab_type": "text"
      },
      "source": [
        "<a href=\"https://colab.research.google.com/github/shinhyeyoon/Lecture2023/blob/main/Week3/Untitled0.ipynb\" target=\"_parent\"><img src=\"https://colab.research.google.com/assets/colab-badge.svg\" alt=\"Open In Colab\"/></a>"
      ]
    },
    {
      "cell_type": "markdown",
      "source": [
        "# Example: 폐암 수술 환자의 생존율 예측 코드"
      ],
      "metadata": {
        "id": "0BwiNgoO6ei1"
      }
    },
    {
      "cell_type": "markdown",
      "source": [
        "1. 환경준비"
      ],
      "metadata": {
        "id": "jytntMVO32FN"
      }
    },
    {
      "cell_type": "code",
      "execution_count": 19,
      "metadata": {
        "id": "6oecXzrFu0SG"
      },
      "outputs": [],
      "source": [
        "from tensorflow.keras.models import Sequential\n",
        "from tensorflow.keras.layers import Dense\n",
        "import numpy as np\n",
        "import pandas as pd"
      ]
    },
    {
      "cell_type": "markdown",
      "source": [
        "2. 데이터 준비"
      ],
      "metadata": {
        "id": "AkjSphBZ36mR"
      }
    },
    {
      "cell_type": "code",
      "source": [
        "Data_set = np.loadtxt('https://raw.githubusercontent.com/dhshinEddie/DeepKMOU/main/W3/ThoraricSurgery3.csv', delimiter=\",\")\n",
        "\n",
        "X = Data_set[:,0:16]                                                                          # 환자의 진찰 기록을 X로 지정합니다.\n",
        "y = Data_set[:,16]                                                                            # 수술 후 사망/생존 여부를 y로 지정합니다."
      ],
      "metadata": {
        "id": "PqC1xh6H3Xc9"
      },
      "execution_count": 25,
      "outputs": []
    },
    {
      "cell_type": "markdown",
      "source": [
        "3. 구조결정"
      ],
      "metadata": {
        "id": "umVjit6F4Pn7"
      }
    },
    {
      "cell_type": "code",
      "source": [
        "model = Sequential()                                                                          # 딥러닝 모델의 구조를 결정합니다.\n",
        "model.add(Dense(30, input_dim = 16, activation='relu'))\n",
        "model.add(Dense(1, activation='sigmoid'))"
      ],
      "metadata": {
        "id": "MRG30d3m3lVV"
      },
      "execution_count": 26,
      "outputs": []
    },
    {
      "cell_type": "markdown",
      "source": [
        "4. 모델실행"
      ],
      "metadata": {
        "id": "7glMRoXo4hXU"
      }
    },
    {
      "cell_type": "code",
      "source": [
        "model.compile(loss='binary_crossentropy', optimizer='adam', metrics=['accuracy'])             # 딥러닝 모델을 실행합니다.\n",
        "history = model.fit(X, y, epochs=5, batch_size=16)"
      ],
      "metadata": {
        "colab": {
          "base_uri": "https://localhost:8080/"
        },
        "id": "I4R-G8Sx4gwr",
        "outputId": "e44cbe37-f609-4342-9b40-efd68b5f2682"
      },
      "execution_count": 27,
      "outputs": [
        {
          "output_type": "stream",
          "name": "stdout",
          "text": [
            "Epoch 1/5\n",
            "30/30 [==============================] - 1s 2ms/step - loss: 0.7829 - accuracy: 0.6681\n",
            "Epoch 2/5\n",
            "30/30 [==============================] - 0s 2ms/step - loss: 0.4889 - accuracy: 0.8511\n",
            "Epoch 3/5\n",
            "30/30 [==============================] - 0s 2ms/step - loss: 0.4610 - accuracy: 0.8511\n",
            "Epoch 4/5\n",
            "30/30 [==============================] - 0s 2ms/step - loss: 0.4560 - accuracy: 0.8511\n",
            "Epoch 5/5\n",
            "30/30 [==============================] - 0s 2ms/step - loss: 0.4500 - accuracy: 0.8511\n"
          ]
        }
      ]
    },
    {
      "cell_type": "code",
      "source": [],
      "metadata": {
        "id": "xGRVDUTX42tt"
      },
      "execution_count": null,
      "outputs": []
    }
  ]
}