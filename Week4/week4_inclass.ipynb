{
  "nbformat": 4,
  "nbformat_minor": 0,
  "metadata": {
    "colab": {
      "provenance": [],
      "authorship_tag": "ABX9TyNPBcE5Whm1aGPU7zYu3ET/",
      "include_colab_link": true
    },
    "kernelspec": {
      "name": "python3",
      "display_name": "Python 3"
    },
    "language_info": {
      "name": "python"
    }
  },
  "cells": [
    {
      "cell_type": "markdown",
      "metadata": {
        "id": "view-in-github",
        "colab_type": "text"
      },
      "source": [
        "<a href=\"https://colab.research.google.com/github/shinhyeyoon/Lecture2023/blob/main/Week4/week4_inclass.ipynb\" target=\"_parent\"><img src=\"https://colab.research.google.com/assets/colab-badge.svg\" alt=\"Open In Colab\"/></a>"
      ]
    },
    {
      "cell_type": "markdown",
      "source": [
        "1. 환경 준비"
      ],
      "metadata": {
        "id": "aKmQjjCBDQFl"
      }
    },
    {
      "cell_type": "code",
      "source": [
        "import numpy as np"
      ],
      "metadata": {
        "id": "mv9wrO3H7flc"
      },
      "execution_count": 23,
      "outputs": []
    },
    {
      "cell_type": "markdown",
      "source": [
        "2. 데이터 준비"
      ],
      "metadata": {
        "id": "5Y0ROKwnDUpx"
      }
    },
    {
      "cell_type": "code",
      "execution_count": 24,
      "metadata": {
        "id": "RlwFtng7wfX_"
      },
      "outputs": [],
      "source": [
        "# 공부한 시간과 점수를 각각 x, y라는 이름의 넘파이 배열로 만듭니다.\n",
        "\n",
        "x = np.array([2, 4, 6, 8])\n",
        "y = np.array([81, 93, 91, 97])\n",
        "\n",
        "mx = np.mean(x)\n",
        "my = np.mean(y)\n",
        "\n",
        "divisor = sum([(i-mx)**2 for i in x])\n",
        "\n",
        "def LMS():\n",
        "  d = 0\n",
        "  for i in range(len(x)):\n",
        "    d += (x[i] - mx) * (y[i] - my)\n",
        "  return d\n",
        "\n",
        "dividend = LMS()\n",
        "a = dividend / divisor\n",
        "b = my - (mx*a)"
      ]
    },
    {
      "cell_type": "markdown",
      "source": [
        "3. 그래프에 식 도출"
      ],
      "metadata": {
        "id": "CaSYFGOU8qa3"
      }
    },
    {
      "cell_type": "code",
      "source": [
        "print(\"x의 평균값:\",mx)\n",
        "print(\"y의 평균값:\",my)\n",
        "print(\"\\n분모:\",divisor)\n",
        "print(\"분자:\",dividend)\n",
        "print(\"\\n기울기 a =\",a)\n",
        "print(\"y 절편 b =\",b)"
      ],
      "metadata": {
        "colab": {
          "base_uri": "https://localhost:8080/"
        },
        "id": "SsKfG5yhDgRV",
        "outputId": "bce9b896-2cc8-4add-9120-b16d06ce9b90"
      },
      "execution_count": 25,
      "outputs": [
        {
          "output_type": "stream",
          "name": "stdout",
          "text": [
            "x의 평균값: 5.0\n",
            "y의 평균값: 90.5\n",
            "\n",
            "분모: 20.0\n",
            "분자: 46.0\n",
            "\n",
            "기울기 a = 2.3\n",
            "y 절편 b = 79.0\n"
          ]
        }
      ]
    },
    {
      "cell_type": "code",
      "source": [
        "fake_a = 3\n",
        "fake_b = 76\n",
        "\n",
        "def predict(X):\n",
        "  y_hat = fake_a * X + fake_b\n",
        "  return y_hat\n",
        "\n",
        "predict_result = []\n",
        "for i in range(len(x)):\n",
        "  predict_result.append(predict(x[i]))\n",
        "\n",
        "def mse(y, y_pred):\n",
        "  d = 0\n",
        "  for i in range(len(x)):\n",
        "    d += (y[i] - y_pred[i])**2\n",
        "  return (1/len(x))*d\n",
        "\n",
        "MSE = mse(y, predict_result)\n",
        "\n",
        "for i in range(len(x)):\n",
        "  print(\"공부시간={}, 실제점수={}, 예측점수={}\\n\".format(x[i], y[i], predict_result[i]))\n",
        "print(\"평균 제곱 오차:\", MSE)"
      ],
      "metadata": {
        "id": "VHpKzLNr8q9q",
        "colab": {
          "base_uri": "https://localhost:8080/"
        },
        "outputId": "795344b9-14c2-4963-d136-4ca6a0a2a22d"
      },
      "execution_count": 26,
      "outputs": [
        {
          "output_type": "stream",
          "name": "stdout",
          "text": [
            "공부시간=2, 실제점수=81, 예측점수=82\n",
            "\n",
            "공부시간=4, 실제점수=93, 예측점수=88\n",
            "\n",
            "공부시간=6, 실제점수=91, 예측점수=94\n",
            "\n",
            "공부시간=8, 실제점수=97, 예측점수=100\n",
            "\n",
            "평균 제곱 오차: 11.0\n"
          ]
        }
      ]
    },
    {
      "cell_type": "code",
      "source": [],
      "metadata": {
        "id": "0Oqyl4YSBlXV"
      },
      "execution_count": null,
      "outputs": []
    }
  ]
}